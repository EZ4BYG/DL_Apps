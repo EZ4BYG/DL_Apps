{
 "cells": [
  {
   "cell_type": "code",
   "execution_count": 1,
   "metadata": {},
   "outputs": [],
   "source": [
    "import tensorflow as tf\n",
    "import numpy as np\n",
    "import glob\n",
    "import matplotlib.pyplot as plt\n",
    "import matplotlib                 # 文件保存为png + 文件读取为png\n",
    "from collections import Counter  # 数组独特元素统计\n",
    "import scipy\n",
    "import math"
   ]
  },
  {
   "cell_type": "code",
   "execution_count": null,
   "metadata": {},
   "outputs": [],
   "source": []
  },
  {
   "cell_type": "markdown",
   "metadata": {},
   "source": [
    "### 1. 设定全局图像参数：只执行一次！"
   ]
  },
  {
   "cell_type": "code",
   "execution_count": 26,
   "metadata": {},
   "outputs": [
    {
     "data": {
      "text/plain": [
       "(14463, 24064, 3)"
      ]
     },
     "execution_count": 26,
     "metadata": {},
     "output_type": "execute_result"
    }
   ],
   "source": [
    "# 获取原始大图（png）位置：\n",
    "img_path = glob.glob( r'D:\\SGDownload\\611_早上\\未命名(2)\\未命名(2)_大图\\待处理png图\\原始图件\\whole.png' )\n",
    "\n",
    "# 处理成图像：\n",
    "img = tf.io.read_file(img_path[0])  # 记得是列表，必须加[0]\n",
    "img = tf.image.decode_png(img, channels = 3)\n",
    "img = img.numpy()\n",
    "img.shape"
   ]
  },
  {
   "cell_type": "code",
   "execution_count": 27,
   "metadata": {},
   "outputs": [],
   "source": [
    "# 处理为能被256整除的数值：\n",
    "img1 = img[0:14336,:,:]"
   ]
  },
  {
   "cell_type": "code",
   "execution_count": 28,
   "metadata": {},
   "outputs": [],
   "source": [
    "# 每个子图计划高、宽（不够自动填补）：公共参数\n",
    "new_height = 256\n",
    "new_width = 256\n",
    "# 获取图像参数：公共参数\n",
    "(height, width, channel) = img1.shape\n",
    "row_total = math.ceil( height / new_height )\n",
    "col_total = math.ceil( width / new_width )"
   ]
  },
  {
   "cell_type": "code",
   "execution_count": 29,
   "metadata": {},
   "outputs": [
    {
     "data": {
      "text/plain": [
       "(56, 94)"
      ]
     },
     "execution_count": 29,
     "metadata": {},
     "output_type": "execute_result"
    }
   ],
   "source": [
    "row_total, col_total"
   ]
  },
  {
   "cell_type": "code",
   "execution_count": 30,
   "metadata": {},
   "outputs": [
    {
     "data": {
      "text/plain": [
       "5264"
      ]
     },
     "execution_count": 30,
     "metadata": {},
     "output_type": "execute_result"
    }
   ],
   "source": [
    "56*94"
   ]
  },
  {
   "cell_type": "code",
   "execution_count": 31,
   "metadata": {},
   "outputs": [
    {
     "data": {
      "text/plain": [
       "56.0"
      ]
     },
     "execution_count": 31,
     "metadata": {},
     "output_type": "execute_result"
    }
   ],
   "source": [
    "height / 256"
   ]
  },
  {
   "cell_type": "markdown",
   "metadata": {},
   "source": [
    "### 2. 大图分割 + 保存子图：只执行一次！"
   ]
  },
  {
   "cell_type": "code",
   "execution_count": 32,
   "metadata": {},
   "outputs": [],
   "source": [
    "# 图像分块函数：传入一张原始大图，返回分割后的子图列表\n",
    "def splitimg(img): \n",
    "    # 分割：一行一行分；每行最后一个宽度值较小！\n",
    "    img_split = [] \n",
    "    for x in range(row_total):\n",
    "        for y in range(col_total):\n",
    "            if (x != row_total - 1) & (y != col_total - 1):\n",
    "                tmp = img[x*new_height:(x+1)*new_height, y*new_width:(y+1)*new_width, :]\n",
    "            else:\n",
    "                tmp = img[x*new_height:(x+1)*new_height, y*new_width:(y+1)*new_width, :]\n",
    "            img_split.append(tmp)\n",
    "    return img_split\n",
    "\n",
    "# 分块后保存为png文件函数：从左到用，从上到下\n",
    "def saveimg(img_split):\n",
    "    # 存储原地址：\n",
    "    path = 'D:/SGDownload/611_早上/未命名(2)/未命名(2)_大图/待处理png图/81/原图分割后/'\n",
    "    total = len(img_split)\n",
    "    # 保存：\n",
    "    for x in range(total):\n",
    "        matplotlib.image.imsave( path + 'subimg_{}.png'.format(x), img_split[x] )"
   ]
  },
  {
   "cell_type": "code",
   "execution_count": 33,
   "metadata": {},
   "outputs": [],
   "source": [
    "# 分割：\n",
    "img_split = splitimg(img)\n",
    "# 保存：\n",
    "saveimg(img_split)"
   ]
  },
  {
   "cell_type": "code",
   "execution_count": null,
   "metadata": {},
   "outputs": [],
   "source": []
  },
  {
   "cell_type": "markdown",
   "metadata": {},
   "source": [
    "### 3. 将标签处理为2色，并重新保存：每次执行！"
   ]
  },
  {
   "cell_type": "code",
   "execution_count": 5,
   "metadata": {},
   "outputs": [],
   "source": [
    "def change2(img_path):\n",
    "    \n",
    "    img_total = [] # 处理之后的图片！\n",
    "    \n",
    "    for x in range( len(img_path) ):   \n",
    "        img = tf.io.read_file( img_path[x] )\n",
    "        img = tf.image.decode_png(img, channels = 1)\n",
    "        img = img.numpy().reshape(256,256)\n",
    "\n",
    "        result = dict( Counter(img.flatten()) )\n",
    "        result = sorted(result.items(), key = lambda item:item[1], reverse=True)\n",
    "\n",
    "        # 选前n个：\n",
    "        topn = 2\n",
    "        result = list(result)[0:topn]\n",
    "        maxtop = []\n",
    "        for x in range(topn):\n",
    "            maxtop.append( result[x][0] )\n",
    "\n",
    "        # 改变：只保留两个，且归为0和1\n",
    "        img[ (img != maxtop[0]) & (img != maxtop[1]) ] = 255  # 只要不是前两个的，都归为白色\n",
    "        img[ img == maxtop[0] ] = 0.0  # 环境：\n",
    "        img[ img == maxtop[1] ] = 1.0  # 沙脊线\n",
    "        \n",
    "        # 存：\n",
    "        img_total.append(img)\n",
    "    \n",
    "    return img_total\n",
    "\n",
    "def resave(img_total, index):\n",
    "    # 存储新地址：\n",
    "    path = 'D:/SGDownload/611_早上/未命名(2)/未命名(2)_大图/待处理png图/沙漠数据集12_450/处理后标签1/'  # 每次该“沙漠数据集”后面的数字即可\n",
    "    total = len(img_total)\n",
    "    # 保存：\n",
    "    for x in range(total):\n",
    "        scipy.misc.imsave( path + 'subimg_{}.png'.format(index[x]), img_total[x] )"
   ]
  },
  {
   "cell_type": "code",
   "execution_count": 6,
   "metadata": {},
   "outputs": [
    {
     "name": "stderr",
     "output_type": "stream",
     "text": [
      "E:\\Pycharm\\python374\\lib\\site-packages\\ipykernel_launcher.py:36: DeprecationWarning: `imsave` is deprecated!\n",
      "`imsave` is deprecated in SciPy 1.0.0, and will be removed in 1.2.0.\n",
      "Use ``imageio.imwrite`` instead.\n"
     ]
    }
   ],
   "source": [
    "img_path = glob.glob( r'D:\\SGDownload\\611_早上\\未命名(2)\\未命名(2)_大图\\待处理png图\\沙漠数据集12_450\\标签\\*' )  # 图像“标签”原地址\n",
    "img_path = sorted(img_path, key = lambda x:int(x.split('\\\\')[-1].split('.')[0].split('_')[-1]) )  # 排序\n",
    "index = [ int(x.split('\\\\')[-1].split('.')[0].split('_')[-1]) for x in img_path ]\n",
    "\n",
    "img_total = change2(img_path)\n",
    "resave(img_total, index)"
   ]
  },
  {
   "cell_type": "code",
   "execution_count": null,
   "metadata": {},
   "outputs": [],
   "source": []
  },
  {
   "cell_type": "code",
   "execution_count": 15,
   "metadata": {},
   "outputs": [
    {
     "name": "stdout",
     "output_type": "stream",
     "text": [
      "[0 1]\n"
     ]
    },
    {
     "data": {
      "image/png": "[encoded data removed]",
      "text/plain": [
       "<Figure size 432x288 with 2 Axes>"
      ]
     },
     "metadata": {
      "needs_background": "light"
     },
     "output_type": "display_data"
    }
   ],
   "source": [
    "# 测试：\n",
    "num = 435\n",
    "label_test_path = glob.glob( 'D:/SGDownload/611_早上/未命名(2)/未命名(2)_大图/待处理png图/沙漠数据集12_450/处理后标签/*' )\n",
    "img_test_path = glob.glob( 'D:/SGDownload/611_早上/未命名(2)/未命名(2)_大图/待处理png图/沙漠数据集12_450/图像/*' )\n",
    "# 排序：\n",
    "img_test_path = sorted(img_test_path, key = lambda x:int(x.split('\\\\')[-1].split('.')[0].split('_')[-1]) )[num]\n",
    "label_test_path = sorted(label_test_path, key = lambda x:int(x.split('\\\\')[-1].split('.')[0].split('_')[-1]) )[num]\n",
    "\n",
    "label_test = tf.io.read_file( label_test_path )\n",
    "label_test = tf.image.decode_png( label_test, channels = 1 )\n",
    "label_test = label_test.numpy().reshape(256,256)\n",
    "\n",
    "img_test = tf.io.read_file( img_test_path )\n",
    "img_test = tf.image.decode_png( img_test, channels = 1 )\n",
    "img_test = img_test.numpy().reshape(256,256)\n",
    "\n",
    "plt.figure()\n",
    "plt.subplot(1, 2, 1)\n",
    "plt.imshow( img_test )\n",
    "plt.subplot(1, 2, 2)\n",
    "plt.imshow( label_test )\n",
    "\n",
    "print( np.unique(label_test) )"
   ]
  },
  {
   "cell_type": "code",
   "execution_count": 16,
   "metadata": {},
   "outputs": [
    {
     "data": {
      "text/plain": [
       "('D:/SGDownload/611_早上/未命名(2)/未命名(2)_大图/待处理png图/沙漠数据集12_450/处理后标签\\\\subimg_3572.png',\n",
       " 'D:/SGDownload/611_早上/未命名(2)/未命名(2)_大图/待处理png图/沙漠数据集12_450/图像\\\\subimg_3572.png')"
      ]
     },
     "execution_count": 16,
     "metadata": {},
     "output_type": "execute_result"
    }
   ],
   "source": [
    "label_test_path, img_test_path"
   ]
  },
  {
   "cell_type": "markdown",
   "metadata": {},
   "source": [
    "### 4. 读取文件并合并为大图：只执行一次！"
   ]
  },
  {
   "cell_type": "code",
   "execution_count": 6,
   "metadata": {},
   "outputs": [],
   "source": [
    "# 图像拼合函数2：读取子图文件，返回合并后的一张大图\n",
    "# 输入：无；  输出：一张合并好的图像\n",
    "# 合并方式：同recoverimg1，只需多生成一个img_split即可\n",
    "def recoverimg2():\n",
    "    \n",
    "    # 所有子图的地址：\n",
    "    # 地址文件需要排序（提取那个“数值”）：原始的是1, 10, 100 ...\n",
    "    all_image_path = glob.glob( r'D:\\SGDownload\\611_早上\\未命名(2)\\未命名(2)_大图\\待处理png图\\大图分割后的png\\*' )  # 每次改这里！\n",
    "    all_image_path = sorted(all_image_path, key = lambda x:int(x.split('\\\\')[-1].split('.')[0].split('_')[-1]) )  # 记得加int!\n",
    "    total = len(all_image_path)\n",
    "    \n",
    "    # 生成img_split\n",
    "    img_split = [] \n",
    "    for x in range(total):\n",
    "        img = matplotlib.image.imread(all_image_path[x], format = 'PNG')  # 读取文件并解码：返回的是数组！\n",
    "        img = img[:,:,0:3]    # 最后的一个“透明度”通道去掉\n",
    "        img_split.append(img)\n",
    "     \n",
    "    # 合并：\n",
    "    # 每行合并：\n",
    "    img_row = [] \n",
    "    for x in range(row_total):\n",
    "        tmp = np.concatenate( img_split[x*col_total:(x+1)*col_total], axis = 1 )\n",
    "        img_row.append(tmp)  # 共10行，故共10个合并后的元素  \n",
    "    # 所有行合并：\n",
    "    img_recover = np.concatenate(img_row, axis = 0)\n",
    "    \n",
    "    return img_recover"
   ]
  },
  {
   "cell_type": "code",
   "execution_count": null,
   "metadata": {},
   "outputs": [],
   "source": [
    "img_recover2 = recoverimg2()"
   ]
  },
  {
   "cell_type": "code",
   "execution_count": null,
   "metadata": {},
   "outputs": [],
   "source": []
  },
  {
   "cell_type": "markdown",
   "metadata": {},
   "source": [
    "### 5. 特殊处理：全是背景的图像标签"
   ]
  },
  {
   "cell_type": "code",
   "execution_count": 2,
   "metadata": {},
   "outputs": [],
   "source": [
    "label_path = glob.glob( r'D:\\SGDownload\\611_早上\\未命名(2)\\未命名(2)_大图\\待处理png图\\沙漠数据集12_450\\特殊标签\\*' )\n",
    "label_path = sorted(label_path, key = lambda x:int(x.split('\\\\')[-1].split('.')[0].split('_')[-1]) )  # 排序\n",
    "index = [ int(x.split('\\\\')[-1].split('.')[0].split('_')[-1]) for x in label_path ]"
   ]
  },
  {
   "cell_type": "code",
   "execution_count": 3,
   "metadata": {},
   "outputs": [],
   "source": [
    "def change1(label_path, index):\n",
    "    label_total = [] # 处理之后的图片！\n",
    "    \n",
    "    for x in range( len(label_path) ):   \n",
    "        # 读取：\n",
    "        img = tf.io.read_file( label_path[x] )\n",
    "        img = tf.image.decode_png(img, channels = 1)\n",
    "        img = img.numpy().reshape(256,256)\n",
    "\n",
    "        result = dict( Counter(img.flatten()) )\n",
    "        result = sorted(result.items(), key = lambda item:item[1], reverse=True)\n",
    "\n",
    "        # 选前1个：只有背景\n",
    "        topn = 1\n",
    "        result = list(result)[0:topn]\n",
    "        maxtop = []\n",
    "        for x in range(topn):\n",
    "            maxtop.append( result[x][0] )\n",
    "\n",
    "        # 改变：只保留两个，且归为0和1\n",
    "        img[ img != maxtop[0] ] = 255  # 只要不是前两个的，都归为白色\n",
    "        img[ img == maxtop[0] ] = 0.0  # 环境\n",
    "        \n",
    "        # 存：\n",
    "        label_total.append(img)\n",
    "    \n",
    "    return label_total\n",
    "\n",
    "def resave1(label_total, index):\n",
    "    # 存储新地址\n",
    "    path = 'D:/SGDownload/611_早上/未命名(2)/未命名(2)_大图/待处理png图/沙漠数据集12_450/特殊标签/'  # 每次该“沙漠数据集”后面的数字即可\n",
    "    total = len(label_total)\n",
    "    print( total )\n",
    "    # 保存：\n",
    "    for x in range(total):\n",
    "        scipy.misc.imsave( path + 'subimg_{}.png'.format(index[x]), label_total[x] )"
   ]
  },
  {
   "cell_type": "code",
   "execution_count": 4,
   "metadata": {},
   "outputs": [
    {
     "name": "stdout",
     "output_type": "stream",
     "text": [
      "6\n"
     ]
    },
    {
     "name": "stderr",
     "output_type": "stream",
     "text": [
      "E:\\Pycharm\\python374\\lib\\site-packages\\ipykernel_launcher.py:36: DeprecationWarning: `imsave` is deprecated!\n",
      "`imsave` is deprecated in SciPy 1.0.0, and will be removed in 1.2.0.\n",
      "Use ``imageio.imwrite`` instead.\n"
     ]
    }
   ],
   "source": [
    "img_total = change1(label_path, index)\n",
    "resave1(img_total, index)"
   ]
  },
  {
   "cell_type": "code",
   "execution_count": 20,
   "metadata": {},
   "outputs": [
    {
     "data": {
      "text/plain": [
       "array([0], dtype=uint8)"
      ]
     },
     "execution_count": 20,
     "metadata": {},
     "output_type": "execute_result"
    }
   ],
   "source": [
    "label_test_path = glob.glob( r'D:\\SGDownload\\611_早上\\未命名(2)\\未命名(2)_大图\\待处理png图\\沙漠数据集11_400\\特殊标签\\*' )\n",
    "\n",
    "label_test = tf.io.read_file( label_test_path[2] )\n",
    "label_test = tf.image.decode_png( label_test, channels = 1 )\n",
    "label_test = label_test.numpy().reshape(256,256)\n",
    "\n",
    "np.unique( label_test )"
   ]
  },
  {
   "cell_type": "code",
   "execution_count": null,
   "metadata": {},
   "outputs": [],
   "source": []
  }
 ],
 "metadata": {
  "kernelspec": {
   "display_name": "Python 3",
   "language": "python",
   "name": "python3"
  },
  "language_info": {
   "codemirror_mode": {
    "name": "ipython",
    "version": 3
   },
   "file_extension": ".py",
   "mimetype": "text/x-python",
   "name": "python",
   "nbconvert_exporter": "python",
   "pygments_lexer": "ipython3",
   "version": "3.7.4"
  }
 },
 "nbformat": 4,
 "nbformat_minor": 2
}
