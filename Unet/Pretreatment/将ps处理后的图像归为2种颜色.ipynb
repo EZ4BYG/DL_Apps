{
 "cells": [
  {
   "cell_type": "code",
   "execution_count": 1,
   "metadata": {},
   "outputs": [],
   "source": [
    "import numpy as np\n",
    "import tensorflow as tf\n",
    "import matplotlib.pyplot as plt\n",
    "import glob"
   ]
  },
  {
   "cell_type": "code",
   "execution_count": 19,
   "metadata": {},
   "outputs": [],
   "source": [
    "img = glob.glob( r'D:\\SGDownload\\ps测试\\g1.png' )"
   ]
  },
  {
   "cell_type": "code",
   "execution_count": 20,
   "metadata": {},
   "outputs": [
    {
     "data": {
      "text/plain": [
       "['D:\\\\SGDownload\\\\ps测试\\\\g1.png']"
      ]
     },
     "execution_count": 20,
     "metadata": {},
     "output_type": "execute_result"
    }
   ],
   "source": [
    "img"
   ]
  },
  {
   "cell_type": "markdown",
   "metadata": {},
   "source": [
    "### 1. 文件读取"
   ]
  },
  {
   "cell_type": "code",
   "execution_count": 21,
   "metadata": {},
   "outputs": [],
   "source": [
    "img = tf.io.read_file(img[0])\n",
    "img = tf.image.decode_png(img, channels = 1)"
   ]
  },
  {
   "cell_type": "code",
   "execution_count": 33,
   "metadata": {},
   "outputs": [
    {
     "data": {
      "text/plain": [
       "[193,\n",
       " 195,\n",
       " 196,\n",
       " 197,\n",
       " 198,\n",
       " 199,\n",
       " 200,\n",
       " 201,\n",
       " 202,\n",
       " 203,\n",
       " 204,\n",
       " 205,\n",
       " 206,\n",
       " 207,\n",
       " 208,\n",
       " 209,\n",
       " 210,\n",
       " 211,\n",
       " 212,\n",
       " 213,\n",
       " 214,\n",
       " 215,\n",
       " 216,\n",
       " 217,\n",
       " 218,\n",
       " 219,\n",
       " 220,\n",
       " 221,\n",
       " 222,\n",
       " 223,\n",
       " 224,\n",
       " 225,\n",
       " 226,\n",
       " 227,\n",
       " 228,\n",
       " 229,\n",
       " 230,\n",
       " 231,\n",
       " 232,\n",
       " 233,\n",
       " 234,\n",
       " 235,\n",
       " 236,\n",
       " 237,\n",
       " 238,\n",
       " 239,\n",
       " 240,\n",
       " 241,\n",
       " 242,\n",
       " 243,\n",
       " 244,\n",
       " 245,\n",
       " 246,\n",
       " 247,\n",
       " 248,\n",
       " 249,\n",
       " 250,\n",
       " 251,\n",
       " 252,\n",
       " 253,\n",
       " 254,\n",
       " 255]"
      ]
     },
     "execution_count": 33,
     "metadata": {},
     "output_type": "execute_result"
    }
   ],
   "source": [
    "# 查看里面所有元素：\n",
    "sorted( np.unique(img.numpy()) )"
   ]
  },
  {
   "cell_type": "code",
   "execution_count": 36,
   "metadata": {},
   "outputs": [
    {
     "data": {
      "text/plain": [
       "{255: 61670,\n",
       " 240: 3,\n",
       " 204: 17,\n",
       " 193: 3,\n",
       " 207: 27,\n",
       " 210: 3425,\n",
       " 209: 37,\n",
       " 206: 24,\n",
       " 203: 8,\n",
       " 211: 9,\n",
       " 254: 18,\n",
       " 205: 13,\n",
       " 200: 7,\n",
       " 227: 7,\n",
       " 237: 9,\n",
       " 208: 25,\n",
       " 236: 6,\n",
       " 199: 6,\n",
       " 235: 3,\n",
       " 248: 5,\n",
       " 197: 5,\n",
       " 242: 4,\n",
       " 243: 8,\n",
       " 217: 5,\n",
       " 214: 11,\n",
       " 196: 2,\n",
       " 202: 11,\n",
       " 195: 2,\n",
       " 252: 7,\n",
       " 221: 4,\n",
       " 253: 13,\n",
       " 215: 5,\n",
       " 213: 9,\n",
       " 241: 3,\n",
       " 251: 7,\n",
       " 201: 13,\n",
       " 245: 3,\n",
       " 212: 7,\n",
       " 225: 5,\n",
       " 218: 7,\n",
       " 220: 7,\n",
       " 226: 8,\n",
       " 233: 3,\n",
       " 234: 3,\n",
       " 246: 4,\n",
       " 238: 2,\n",
       " 228: 7,\n",
       " 247: 4,\n",
       " 224: 3,\n",
       " 249: 4,\n",
       " 219: 9,\n",
       " 232: 5,\n",
       " 231: 2,\n",
       " 223: 3,\n",
       " 250: 2,\n",
       " 222: 3,\n",
       " 244: 3,\n",
       " 229: 3,\n",
       " 198: 3,\n",
       " 239: 1,\n",
       " 230: 2,\n",
       " 216: 2}"
      ]
     },
     "execution_count": 36,
     "metadata": {},
     "output_type": "execute_result"
    }
   ],
   "source": [
    "from collections import Counter\n",
    "result = dict(Counter( img.numpy().flatten() ))\n",
    "result"
   ]
  },
  {
   "cell_type": "code",
   "execution_count": 37,
   "metadata": {},
   "outputs": [
    {
     "data": {
      "text/plain": [
       "[(255, 61670),\n",
       " (210, 3425),\n",
       " (209, 37),\n",
       " (207, 27),\n",
       " (208, 25),\n",
       " (206, 24),\n",
       " (254, 18),\n",
       " (204, 17),\n",
       " (205, 13),\n",
       " (253, 13),\n",
       " (201, 13),\n",
       " (214, 11),\n",
       " (202, 11),\n",
       " (211, 9),\n",
       " (237, 9),\n",
       " (213, 9),\n",
       " (219, 9),\n",
       " (203, 8),\n",
       " (243, 8),\n",
       " (226, 8),\n",
       " (200, 7),\n",
       " (227, 7),\n",
       " (252, 7),\n",
       " (251, 7),\n",
       " (212, 7),\n",
       " (218, 7),\n",
       " (220, 7),\n",
       " (228, 7),\n",
       " (236, 6),\n",
       " (199, 6),\n",
       " (248, 5),\n",
       " (197, 5),\n",
       " (217, 5),\n",
       " (215, 5),\n",
       " (225, 5),\n",
       " (232, 5),\n",
       " (242, 4),\n",
       " (221, 4),\n",
       " (246, 4),\n",
       " (247, 4),\n",
       " (249, 4),\n",
       " (240, 3),\n",
       " (193, 3),\n",
       " (235, 3),\n",
       " (241, 3),\n",
       " (245, 3),\n",
       " (233, 3),\n",
       " (234, 3),\n",
       " (224, 3),\n",
       " (223, 3),\n",
       " (222, 3),\n",
       " (244, 3),\n",
       " (229, 3),\n",
       " (198, 3),\n",
       " (196, 2),\n",
       " (195, 2),\n",
       " (238, 2),\n",
       " (231, 2),\n",
       " (250, 2),\n",
       " (230, 2),\n",
       " (216, 2),\n",
       " (239, 1)]"
      ]
     },
     "execution_count": 37,
     "metadata": {},
     "output_type": "execute_result"
    }
   ],
   "source": [
    "sorted(result.items(), key = lambda item:item[1], reverse=True)"
   ]
  },
  {
   "cell_type": "code",
   "execution_count": 42,
   "metadata": {},
   "outputs": [],
   "source": [
    "# g2[ (g2 > 10) & (g2 < 16) ] = 99\n",
    "img = img.numpy()\n",
    "img[ (img != 255) & (img != 210) ] = 255\n"
   ]
  },
  {
   "cell_type": "code",
   "execution_count": 44,
   "metadata": {},
   "outputs": [],
   "source": [
    "type(img)\n",
    "img[ (img != 255) & (img != 210) ] = 255"
   ]
  },
  {
   "cell_type": "code",
   "execution_count": 46,
   "metadata": {},
   "outputs": [
    {
     "data": {
      "text/plain": [
       "<matplotlib.image.AxesImage at 0x2b3227c0188>"
      ]
     },
     "execution_count": 46,
     "metadata": {},
     "output_type": "execute_result"
    },
    {
     "data": {
      "image/png": "[encoded data removed]",
      "text/plain": [
       "<Figure size 432x288 with 1 Axes>"
      ]
     },
     "metadata": {
      "needs_background": "light"
     },
     "output_type": "display_data"
    }
   ],
   "source": [
    "plt.imshow( img.reshape(256,256) )"
   ]
  },
  {
   "cell_type": "code",
   "execution_count": 47,
   "metadata": {},
   "outputs": [
    {
     "data": {
      "text/plain": [
       "array([210, 255], dtype=uint8)"
      ]
     },
     "execution_count": 47,
     "metadata": {},
     "output_type": "execute_result"
    }
   ],
   "source": [
    "np.unique(img)"
   ]
  },
  {
   "cell_type": "code",
   "execution_count": 50,
   "metadata": {},
   "outputs": [
    {
     "data": {
      "text/plain": [
       "dict"
      ]
     },
     "execution_count": 50,
     "metadata": {},
     "output_type": "execute_result"
    }
   ],
   "source": [
    "type(result)"
   ]
  },
  {
   "cell_type": "code",
   "execution_count": 55,
   "metadata": {},
   "outputs": [],
   "source": [
    "result = list(result)[0:2]"
   ]
  },
  {
   "cell_type": "code",
   "execution_count": 56,
   "metadata": {},
   "outputs": [
    {
     "data": {
      "text/plain": [
       "[255, 240]"
      ]
     },
     "execution_count": 56,
     "metadata": {},
     "output_type": "execute_result"
    }
   ],
   "source": [
    "result"
   ]
  },
  {
   "cell_type": "code",
   "execution_count": null,
   "metadata": {},
   "outputs": [],
   "source": []
  },
  {
   "cell_type": "code",
   "execution_count": null,
   "metadata": {},
   "outputs": [],
   "source": []
  },
  {
   "cell_type": "code",
   "execution_count": 22,
   "metadata": {},
   "outputs": [],
   "source": [
    "img = glob.glob( r'D:\\SGDownload\\ps测试\\g1.png' )"
   ]
  },
  {
   "cell_type": "code",
   "execution_count": 23,
   "metadata": {},
   "outputs": [],
   "source": [
    "img = tf.io.read_file(img[0])\n",
    "img = tf.image.decode_png(img, channels = 1)\n",
    "img = img.numpy().reshape(256,256)"
   ]
  },
  {
   "cell_type": "code",
   "execution_count": 24,
   "metadata": {},
   "outputs": [
    {
     "data": {
      "text/plain": [
       "<matplotlib.image.AxesImage at 0x1c6313d0ec8>"
      ]
     },
     "execution_count": 24,
     "metadata": {},
     "output_type": "execute_result"
    },
    {
     "data": {
      "image/png": "[encoded data removed]",
      "text/plain": [
       "<Figure size 432x288 with 1 Axes>"
      ]
     },
     "metadata": {
      "needs_background": "light"
     },
     "output_type": "display_data"
    }
   ],
   "source": [
    "# 原始图：边缘有毛边！\n",
    "plt.imshow(img)"
   ]
  },
  {
   "cell_type": "code",
   "execution_count": 25,
   "metadata": {},
   "outputs": [
    {
     "data": {
      "text/plain": [
       "array([193, 195, 196, 197, 198, 199, 200, 201, 202, 203, 204, 205, 206,\n",
       "       207, 208, 209, 210, 211, 212, 213, 214, 215, 216, 217, 218, 219,\n",
       "       220, 221, 222, 223, 224, 225, 226, 227, 228, 229, 230, 231, 232,\n",
       "       233, 234, 235, 236, 237, 238, 239, 240, 241, 242, 243, 244, 245,\n",
       "       246, 247, 248, 249, 250, 251, 252, 253, 254, 255], dtype=uint8)"
      ]
     },
     "execution_count": 25,
     "metadata": {},
     "output_type": "execute_result"
    }
   ],
   "source": [
    "# 查看元素：\n",
    "np.unique(img)"
   ]
  },
  {
   "cell_type": "code",
   "execution_count": null,
   "metadata": {},
   "outputs": [],
   "source": []
  },
  {
   "cell_type": "code",
   "execution_count": 26,
   "metadata": {},
   "outputs": [],
   "source": [
    "# 开始处理：\n",
    "\n",
    "# 获取每个元素对应有多少个：\n",
    "from collections import Counter\n",
    "result = dict( Counter(img.flatten()) )"
   ]
  },
  {
   "cell_type": "code",
   "execution_count": 27,
   "metadata": {},
   "outputs": [],
   "source": [
    "# 按“值”排序：\n",
    "result = sorted(result.items(), key = lambda item:item[1], reverse=True)"
   ]
  },
  {
   "cell_type": "code",
   "execution_count": 28,
   "metadata": {},
   "outputs": [],
   "source": [
    "# 取前2个（键）：\n",
    "result = list(result)[0:2]"
   ]
  },
  {
   "cell_type": "code",
   "execution_count": 29,
   "metadata": {},
   "outputs": [
    {
     "data": {
      "text/plain": [
       "[(255, 61670), (210, 3425)]"
      ]
     },
     "execution_count": 29,
     "metadata": {},
     "output_type": "execute_result"
    }
   ],
   "source": [
    "result"
   ]
  },
  {
   "cell_type": "code",
   "execution_count": 30,
   "metadata": {},
   "outputs": [],
   "source": [
    "# 取出键值：\n",
    "maxtop = []\n",
    "topn = 2\n",
    "for x in range(topn):\n",
    "    maxtop.append( result[x][0] )"
   ]
  },
  {
   "cell_type": "code",
   "execution_count": 31,
   "metadata": {},
   "outputs": [
    {
     "data": {
      "text/plain": [
       "[255, 210]"
      ]
     },
     "execution_count": 31,
     "metadata": {},
     "output_type": "execute_result"
    }
   ],
   "source": [
    "maxtop"
   ]
  },
  {
   "cell_type": "code",
   "execution_count": 32,
   "metadata": {},
   "outputs": [],
   "source": [
    "# img[ (img != max1) & (img != max2) ] = 255\n",
    "img[ (img != maxtop[0]) & (img != maxtop[1]) ] = 255"
   ]
  },
  {
   "cell_type": "code",
   "execution_count": 33,
   "metadata": {},
   "outputs": [
    {
     "data": {
      "text/plain": [
       "<matplotlib.image.AxesImage at 0x1c6314a9a08>"
      ]
     },
     "execution_count": 33,
     "metadata": {},
     "output_type": "execute_result"
    },
    {
     "data": {
      "image/png": "[encoded data removed]",
      "text/plain": [
       "<Figure size 432x288 with 1 Axes>"
      ]
     },
     "metadata": {
      "needs_background": "light"
     },
     "output_type": "display_data"
    }
   ],
   "source": [
    "plt.imshow(img)"
   ]
  },
  {
   "cell_type": "code",
   "execution_count": 34,
   "metadata": {},
   "outputs": [
    {
     "data": {
      "text/plain": [
       "array([210, 255], dtype=uint8)"
      ]
     },
     "execution_count": 34,
     "metadata": {},
     "output_type": "execute_result"
    }
   ],
   "source": [
    "np.unique(img)"
   ]
  },
  {
   "cell_type": "code",
   "execution_count": null,
   "metadata": {},
   "outputs": [],
   "source": []
  },
  {
   "cell_type": "code",
   "execution_count": null,
   "metadata": {},
   "outputs": [],
   "source": []
  },
  {
   "cell_type": "code",
   "execution_count": 36,
   "metadata": {},
   "outputs": [
    {
     "name": "stdout",
     "output_type": "stream",
     "text": [
      "[210 211 212 213 214 215 216 217 218 219 220 221 222 223 224 225 226 227\n",
      " 228 229 230 231 232 233 234 235 236 237 238 239 240 241 242 243 244 245\n",
      " 246 247 248 249 250 251 252 253 254 255]\n",
      "[0 1]\n"
     ]
    },
    {
     "data": {
      "text/plain": [
       "<matplotlib.image.AxesImage at 0x1c6315ec108>"
      ]
     },
     "execution_count": 36,
     "metadata": {},
     "output_type": "execute_result"
    },
    {
     "data": {
      "image/png": "[encoded data removed]",
      "text/plain": [
       "<Figure size 432x288 with 1 Axes>"
      ]
     },
     "metadata": {
      "needs_background": "light"
     },
     "output_type": "display_data"
    }
   ],
   "source": [
    "img1 = glob.glob( r'D:\\SGDownload\\ps测试\\g2.png' )\n",
    "\n",
    "img1 = tf.io.read_file(img1[0])\n",
    "img1 = tf.image.decode_png(img1, channels = 1)\n",
    "img1 = img1.numpy().reshape(256,256)\n",
    "\n",
    "print( np.unique(img1) )\n",
    "\n",
    "# 排序：\n",
    "from collections import Counter\n",
    "result = dict( Counter(img1.flatten()) )\n",
    "result = sorted(result.items(), key = lambda item:item[1], reverse=True)\n",
    "\n",
    "# 选前n个：\n",
    "topn = 2\n",
    "result = list(result)[0:topn]\n",
    "maxtop = []\n",
    "for x in range(topn):\n",
    "    maxtop.append( result[x][0] )\n",
    "    \n",
    "img1[ (img1 != maxtop[0]) & (img1 != maxtop[1]) ] = 255\n",
    "img1[ img1 == maxtop[0] ] = 0\n",
    "img1[ img1 == maxtop[1] ] = 1 \n",
    " \n",
    "print( np.unique(img1) )\n",
    "\n",
    "plt.imshow(img1)"
   ]
  },
  {
   "cell_type": "code",
   "execution_count": null,
   "metadata": {},
   "outputs": [],
   "source": []
  },
  {
   "cell_type": "code",
   "execution_count": null,
   "metadata": {},
   "outputs": [],
   "source": []
  },
  {
   "cell_type": "markdown",
   "metadata": {},
   "source": [
    "### 1. 写成函数形式：从文件夹读"
   ]
  },
  {
   "cell_type": "markdown",
   "metadata": {},
   "source": [
    "说明：从文件夹读入所有处理后的标签图片，然后转为对应的只有2色的图片"
   ]
  },
  {
   "cell_type": "code",
   "execution_count": 13,
   "metadata": {},
   "outputs": [],
   "source": [
    "import numpy as np\n",
    "import tensorflow as tf\n",
    "import matplotlib.pyplot as plt\n",
    "import glob\n",
    "from collections import Counter\n",
    "import matplotlib\n",
    "import scipy"
   ]
  },
  {
   "cell_type": "code",
   "execution_count": 89,
   "metadata": {},
   "outputs": [],
   "source": [
    "def change2(img_path):\n",
    "    \n",
    "    img_total = [] # 处理之后的图片！\n",
    "    \n",
    "    for x in range( len(path) ):   \n",
    "        img = tf.io.read_file( img_path[x] )\n",
    "        img = tf.image.decode_png(img, channels = 1)\n",
    "        img = img.numpy().reshape(256,256)\n",
    "\n",
    "        result = dict( Counter(img.flatten()) )\n",
    "        result = sorted(result.items(), key = lambda item:item[1], reverse=True)\n",
    "\n",
    "        # 选前n个：\n",
    "        topn = 2\n",
    "        result = list(result)[0:topn]\n",
    "        maxtop = []\n",
    "        for x in range(topn):\n",
    "            maxtop.append( result[x][0] )\n",
    "\n",
    "        # 改变：只保留两个，且归为0和1\n",
    "        img[ (img != maxtop[0]) & (img != maxtop[1]) ] = 255\n",
    "        img[ img == maxtop[0] ] = 0.0  # 环境：\n",
    "        img[ img == maxtop[1] ] = 1.0  # 沙脊线\n",
    "        \n",
    "        # 存：\n",
    "        img_total.append(img)\n",
    "    \n",
    "    return img_total"
   ]
  },
  {
   "cell_type": "code",
   "execution_count": 103,
   "metadata": {},
   "outputs": [],
   "source": [
    "def resave(img_total):\n",
    "    # 存储原地址：\n",
    "    path = 'D:/SGDownload/611_早上/未命名(2)/未命名(2)_大图/待处理png图/沙漠数据集2/处理后标签/'\n",
    "    total = len(img_total)\n",
    "    # 保存：\n",
    "    for x in range(total):\n",
    "        scipy.misc.imsave( path + 'subimg_{}.png'.format(x), img_total[x] )"
   ]
  },
  {
   "cell_type": "code",
   "execution_count": 104,
   "metadata": {},
   "outputs": [],
   "source": [
    "img_path = glob.glob( r'D:\\SGDownload\\611_早上\\未命名(2)\\未命名(2)_大图\\待处理png图\\沙漠数据集2\\标签\\*' )\n",
    "img_total = change2(img_path)"
   ]
  },
  {
   "cell_type": "code",
   "execution_count": 105,
   "metadata": {},
   "outputs": [
    {
     "name": "stderr",
     "output_type": "stream",
     "text": [
      "E:\\Pycharm\\python374\\lib\\site-packages\\ipykernel_launcher.py:7: DeprecationWarning: `imsave` is deprecated!\n",
      "`imsave` is deprecated in SciPy 1.0.0, and will be removed in 1.2.0.\n",
      "Use ``imageio.imwrite`` instead.\n",
      "  import sys\n"
     ]
    }
   ],
   "source": [
    "resave(img_total)"
   ]
  },
  {
   "cell_type": "code",
   "execution_count": null,
   "metadata": {},
   "outputs": [],
   "source": []
  },
  {
   "cell_type": "code",
   "execution_count": 106,
   "metadata": {},
   "outputs": [],
   "source": [
    "img_ceshi = glob.glob( 'D:/SGDownload/611_早上/未命名(2)/未命名(2)_大图/待处理png图/沙漠数据集2/处理后标签/*' )"
   ]
  },
  {
   "cell_type": "code",
   "execution_count": 112,
   "metadata": {},
   "outputs": [
    {
     "name": "stdout",
     "output_type": "stream",
     "text": [
      "[0 1]\n",
      "[0 1]\n",
      "[0 1]\n",
      "[0 1]\n",
      "[0 1]\n",
      "[0 1]\n",
      "[0 1]\n",
      "[0 1]\n",
      "[0 1]\n",
      "[0 1]\n",
      "[0 1]\n",
      "[0 1]\n",
      "[0 1]\n",
      "[0 1]\n",
      "[0 1]\n",
      "[0 1]\n",
      "[0 1]\n",
      "[0 1]\n",
      "[0 1]\n",
      "[0 1]\n",
      "[0 1]\n",
      "[0 1]\n",
      "[0 1]\n",
      "[0 1]\n",
      "[0 1]\n",
      "[0 1]\n",
      "[0 1]\n",
      "[0 1]\n",
      "[0 1]\n",
      "[0 1]\n",
      "[0 1]\n",
      "[0 1]\n",
      "[0 1]\n",
      "[0 1]\n",
      "[0 1]\n",
      "[0 1]\n",
      "[0 1]\n",
      "[0 1]\n",
      "[0 1]\n",
      "[0 1]\n",
      "[0 1]\n",
      "[0 1]\n",
      "[0 1]\n",
      "[0 1]\n",
      "[0 1]\n",
      "[0 1]\n",
      "[0 1]\n",
      "[0 1]\n",
      "[0 1]\n",
      "[0 1]\n",
      "[0 1]\n",
      "[0 1]\n",
      "[0 1]\n",
      "[0 1]\n",
      "[0 1]\n"
     ]
    }
   ],
   "source": [
    "for x in range( len(img_ceshi) ):\n",
    "    img_tmp = tf.io.read_file(img_ceshi[x])\n",
    "    img_tmp = tf.image.decode_png(img_tmp, channels = 1)\n",
    "    print( np.unique( img_tmp.numpy() ) )"
   ]
  }
 ],
 "metadata": {
  "kernelspec": {
   "display_name": "Python 3",
   "language": "python",
   "name": "python3"
  },
  "language_info": {
   "codemirror_mode": {
    "name": "ipython",
    "version": 3
   },
   "file_extension": ".py",
   "mimetype": "text/x-python",
   "name": "python",
   "nbconvert_exporter": "python",
   "pygments_lexer": "ipython3",
   "version": "3.7.4"
  }
 },
 "nbformat": 4,
 "nbformat_minor": 2
}
