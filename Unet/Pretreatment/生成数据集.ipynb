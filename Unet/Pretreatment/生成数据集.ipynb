{
 "cells": [
  {
   "cell_type": "code",
   "execution_count": 1,
   "metadata": {},
   "outputs": [],
   "source": [
    "import glob\n",
    "import numpy"
   ]
  },
  {
   "cell_type": "code",
   "execution_count": 11,
   "metadata": {},
   "outputs": [],
   "source": [
    "all_image_path = glob.glob( r'D:\\SGDownload\\611_早上\\未命名(2)\\未命名(2)_大图\\待处理png图\\大图分割后的png\\*' )\n",
    "all_image_path = sorted(all_image_path, key = lambda x:int(x.split('\\\\')[-1].split('.')[0].split('_')[-1]) )  # 排序"
   ]
  },
  {
   "cell_type": "code",
   "execution_count": 12,
   "metadata": {},
   "outputs": [],
   "source": [
    "# 想要的文件的路径：后面可以加上“随机”！\n",
    "all_image_path = all_image_path[0:100]"
   ]
  },
  {
   "cell_type": "code",
   "execution_count": 13,
   "metadata": {},
   "outputs": [],
   "source": [
    "import os\n",
    "import shutil"
   ]
  },
  {
   "cell_type": "code",
   "execution_count": 15,
   "metadata": {},
   "outputs": [],
   "source": [
    "# 文件路径已有\n",
    "# 目标路径：\n",
    "image_path = r'D:\\SGDownload\\611_早上\\未命名(2)\\未命名(2)_大图\\待处理png图\\数据集1\\图像'\n",
    "label_path = r'D:\\SGDownload\\611_早上\\未命名(2)\\未命名(2)_大图\\待处理png图\\数据集1\\标签'\n",
    "\n",
    "# 文件拷贝：shutil.copy(待拷问文件的路径, 目标文件夹路径) —— 都是字符串，每次只能拷贝一张图（必须循环了）！\n",
    "for x in range( len(all_image_path) ):\n",
    "    shutil.copy( all_image_path[x], image_path )\n",
    "    shutil.copy( all_image_path[x], label_path )"
   ]
  },
  {
   "cell_type": "code",
   "execution_count": null,
   "metadata": {},
   "outputs": [],
   "source": []
  }
 ],
 "metadata": {
  "kernelspec": {
   "display_name": "Python 3",
   "language": "python",
   "name": "python3"
  },
  "language_info": {
   "codemirror_mode": {
    "name": "ipython",
    "version": 3
   },
   "file_extension": ".py",
   "mimetype": "text/x-python",
   "name": "python",
   "nbconvert_exporter": "python",
   "pygments_lexer": "ipython3",
   "version": "3.7.4"
  }
 },
 "nbformat": 4,
 "nbformat_minor": 2
}
